{
 "cells": [
  {
   "cell_type": "markdown",
   "id": "9a57c4c6",
   "metadata": {},
   "source": [
    "# Eat Safe, Love"
   ]
  },
  {
   "cell_type": "markdown",
   "id": "064ef857",
   "metadata": {},
   "source": [
    "## Part 1: Database and Jupyter Notebook Set Up"
   ]
  },
  {
   "cell_type": "markdown",
   "id": "664e3c1f",
   "metadata": {},
   "source": [
    "Import the data provided in the `establishments.json` file from your Terminal. Name the database `uk_food` and the collection `establishments`.\n",
    "\n",
    "Within this markdown cell, copy the line of text you used to import the data from your Terminal. This way, future analysts will be able to repeat your process.\n",
    "\n",
    "e.g.: Import the dataset with `mongoimport --type json -d uk_food -c establishments --drop --jsonArray establishments.json`"
   ]
  },
  {
   "cell_type": "code",
   "execution_count": 37,
   "id": "3ecdd008",
   "metadata": {},
   "outputs": [],
   "source": [
    "# Import dependencies\n",
    "from pymongo import MongoClient\n",
    "from pprint import pprint"
   ]
  },
  {
   "cell_type": "code",
   "execution_count": 38,
   "id": "59390c4a",
   "metadata": {},
   "outputs": [],
   "source": [
    "# Create an instance of MongoClient\n",
    "mongo = MongoClient(port=27017)"
   ]
  },
  {
   "cell_type": "code",
   "execution_count": 39,
   "id": "7f9ececa",
   "metadata": {},
   "outputs": [
    {
     "name": "stdout",
     "output_type": "stream",
     "text": [
      "['admin', 'classDB', 'config', 'local', 'met', 'uk_food']\n"
     ]
    }
   ],
   "source": [
    "# confirm that our new database was created\n",
    "print(mongo.list_database_names())"
   ]
  },
  {
   "cell_type": "code",
   "execution_count": 40,
   "id": "71e373c1",
   "metadata": {},
   "outputs": [],
   "source": [
    "# assign the uk_food database to a variable name\n",
    "db = mongo['uk_food']"
   ]
  },
  {
   "cell_type": "code",
   "execution_count": 41,
   "id": "ef1b89ed",
   "metadata": {},
   "outputs": [
    {
     "name": "stdout",
     "output_type": "stream",
     "text": [
      "['establishments']\n"
     ]
    }
   ],
   "source": [
    "# review the collections in our new database\n",
    "print(db.list_collection_names())"
   ]
  },
  {
   "cell_type": "code",
   "execution_count": 42,
   "id": "6a0d92df",
   "metadata": {},
   "outputs": [
    {
     "name": "stdout",
     "output_type": "stream",
     "text": [
      "{'AddressLine1': 'The Bay',\n",
      " 'AddressLine2': 'St Margarets Bay',\n",
      " 'AddressLine3': 'Kent',\n",
      " 'AddressLine4': '',\n",
      " 'BusinessName': 'Refreshment Kiosk',\n",
      " 'BusinessType': 'Restaurant/Cafe/Canteen',\n",
      " 'BusinessTypeID': 1,\n",
      " 'ChangesByServerID': 0,\n",
      " 'Distance': 4587.347174863443,\n",
      " 'FHRSID': 254719,\n",
      " 'LocalAuthorityBusinessID': 'PI/000069980',\n",
      " 'LocalAuthorityCode': '182',\n",
      " 'LocalAuthorityEmailAddress': 'publicprotection@dover.gov.uk',\n",
      " 'LocalAuthorityName': 'Dover',\n",
      " 'LocalAuthorityWebSite': 'http://www.dover.gov.uk/',\n",
      " 'NewRatingPending': False,\n",
      " 'Phone': '',\n",
      " 'PostCode': 'CT15 6DY',\n",
      " 'RatingDate': '2022-03-24T00:00:00',\n",
      " 'RatingKey': 'fhrs_5_en-gb',\n",
      " 'RatingValue': '5',\n",
      " 'RightToReply': '',\n",
      " 'SchemeType': 'FHRS',\n",
      " '_id': ObjectId('64afd6cebdd76bfec882eab2'),\n",
      " 'geocode': {'latitude': '51.152225', 'longitude': '1.387974'},\n",
      " 'links': [{'href': 'https://api.ratings.food.gov.uk/establishments/254719',\n",
      "            'rel': 'self'}],\n",
      " 'meta': {'dataSource': None,\n",
      "          'extractDate': '0001-01-01T00:00:00',\n",
      "          'itemCount': 0,\n",
      "          'pageNumber': 0,\n",
      "          'pageSize': 0,\n",
      "          'returncode': None,\n",
      "          'totalCount': 0,\n",
      "          'totalPages': 0},\n",
      " 'scores': {'ConfidenceInManagement': 5, 'Hygiene': 0, 'Structural': 5}}\n"
     ]
    }
   ],
   "source": [
    "# review a document in the establishments collection\n",
    "pprint(db.establishments.find_one())"
   ]
  },
  {
   "cell_type": "code",
   "execution_count": 43,
   "id": "11c9f11b",
   "metadata": {},
   "outputs": [],
   "source": [
    "# assign the collection to a variable\n",
    "establishments = db['establishments']"
   ]
  },
  {
   "cell_type": "markdown",
   "id": "d5671434",
   "metadata": {},
   "source": [
    "## Part 2: Update the Database"
   ]
  },
  {
   "cell_type": "markdown",
   "id": "314bd884",
   "metadata": {},
   "source": [
    "1. An exciting new halal restaurant just opened in Greenwich, but hasn't been rated yet. The magazine has asked you to include it in your analysis. Add the following restaurant \"Penang Flavours\" to the database."
   ]
  },
  {
   "cell_type": "code",
   "execution_count": 44,
   "id": "c2da7648",
   "metadata": {},
   "outputs": [],
   "source": [
    "# Create a dictionary for the new restaurant data\n",
    "new_rd = {'BusinessName':'Penang Flavours',  'BusinessType':'Restaurant/Cafe/Canteen',\n",
    "          'BusinessTypeID':'',  'AddressLine1':'Penang Flavours', 'AddressLine2':'146A Plumstead Rd',\n",
    "          'AddressLine3':'London',  'AddressLine4':'',  'PostCode':'SE18 7DY', 'Phone':'',\n",
    "          'LocalAuthorityCode':'511', 'LocalAuthorityName':'Greenwich',\n",
    "          'LocalAuthorityWebSite':'http://www.royalgreenwich.gov.uk',\n",
    "          'LocalAuthorityEmailAddress':'health@royalgreenwich.gov.uk',\n",
    "          'scores':{'Hygiene':'', 'Structural':'', 'ConfidenceInManagement':''}, 'SchemeType':'FHRS',\n",
    "          'geocode':{'longitude':'0.08384000', 'latitude':'51.49014200'},\n",
    "          'RightToReply':'', 'Distance':4623.9723280747176, 'NewRatingPending':True}"
   ]
  },
  {
   "cell_type": "code",
   "execution_count": 45,
   "id": "bf54c2b7-147c-49b5-ba4d-a388d8f668de",
   "metadata": {
    "tags": []
   },
   "outputs": [
    {
     "name": "stdout",
     "output_type": "stream",
     "text": [
      "None\n"
     ]
    }
   ],
   "source": [
    "# Check if AddressLine1 is already in collection\n",
    "pprint(establishments.find_one({\"AddressLine1\":new_rd['AddressLine1']}))"
   ]
  },
  {
   "cell_type": "code",
   "execution_count": 46,
   "id": "a6e5cece",
   "metadata": {},
   "outputs": [
    {
     "data": {
      "text/plain": [
       "<pymongo.results.InsertOneResult at 0x22c2ddc0ec0>"
      ]
     },
     "execution_count": 46,
     "metadata": {},
     "output_type": "execute_result"
    }
   ],
   "source": [
    "# Insert the new restaurant into the collection\n",
    "establishments.insert_one(new_rd)"
   ]
  },
  {
   "cell_type": "code",
   "execution_count": 47,
   "id": "63bb10f9",
   "metadata": {},
   "outputs": [
    {
     "name": "stdout",
     "output_type": "stream",
     "text": [
      "{'AddressLine1': 'Penang Flavours',\n",
      " 'AddressLine2': '146A Plumstead Rd',\n",
      " 'AddressLine3': 'London',\n",
      " 'AddressLine4': '',\n",
      " 'BusinessName': 'Penang Flavours',\n",
      " 'BusinessType': 'Restaurant/Cafe/Canteen',\n",
      " 'BusinessTypeID': '',\n",
      " 'Distance': 4623.972328074718,\n",
      " 'LocalAuthorityCode': '511',\n",
      " 'LocalAuthorityEmailAddress': 'health@royalgreenwich.gov.uk',\n",
      " 'LocalAuthorityName': 'Greenwich',\n",
      " 'LocalAuthorityWebSite': 'http://www.royalgreenwich.gov.uk',\n",
      " 'NewRatingPending': True,\n",
      " 'Phone': '',\n",
      " 'PostCode': 'SE18 7DY',\n",
      " 'RightToReply': '',\n",
      " 'SchemeType': 'FHRS',\n",
      " '_id': ObjectId('64afd705550a0835d6649e3f'),\n",
      " 'geocode': {'latitude': '51.49014200', 'longitude': '0.08384000'},\n",
      " 'scores': {'ConfidenceInManagement': '', 'Hygiene': '', 'Structural': ''}}\n"
     ]
    }
   ],
   "source": [
    "# Check that the new restaurant was inserted\n",
    "pprint(establishments.find_one({\"AddressLine1\":new_rd['AddressLine1']}))"
   ]
  },
  {
   "cell_type": "markdown",
   "id": "0ef4395a",
   "metadata": {},
   "source": [
    "2. Find the BusinessTypeID for \"Restaurant/Cafe/Canteen\" and return only the `BusinessTypeID` and `BusinessType` fields."
   ]
  },
  {
   "cell_type": "code",
   "execution_count": 48,
   "id": "93c63829",
   "metadata": {},
   "outputs": [
    {
     "name": "stdout",
     "output_type": "stream",
     "text": [
      "{'BusinessType': 'Restaurant/Cafe/Canteen', 'BusinessTypeID': 1}\n"
     ]
    }
   ],
   "source": [
    "# Find the BusinessTypeID for \"Restaurant/Cafe/Canteen\" and return only the BusinessTypeID and BusinessType fields\n",
    "btype = establishments.find_one({\"BusinessType\": \"Restaurant/Cafe/Canteen\"},\n",
    "                                {\"BusinessTypeID\": 1, \"BusinessType\": 1, \"_id\": 0})\n",
    "\n",
    "pprint(btype)"
   ]
  },
  {
   "cell_type": "markdown",
   "id": "4e570caf",
   "metadata": {},
   "source": [
    "3. Update the new restaurant with the `BusinessTypeID` you found."
   ]
  },
  {
   "cell_type": "code",
   "execution_count": 49,
   "id": "7f599f3d",
   "metadata": {},
   "outputs": [
    {
     "data": {
      "text/plain": [
       "<pymongo.results.UpdateResult at 0x22c36698a00>"
      ]
     },
     "execution_count": 49,
     "metadata": {},
     "output_type": "execute_result"
    }
   ],
   "source": [
    "# Update the new restaurant 'Penang Flavours' with the correct BusinessTypeID\n",
    "establishments.update_one({\"BusinessName\": \"Penang Flavours\"}, {\"$set\": {\"BusinessTypeID\": btype[\"BusinessTypeID\"]}})"
   ]
  },
  {
   "cell_type": "code",
   "execution_count": 50,
   "id": "a6ad16f7",
   "metadata": {},
   "outputs": [
    {
     "name": "stdout",
     "output_type": "stream",
     "text": [
      "{'AddressLine1': 'Penang Flavours',\n",
      " 'AddressLine2': '146A Plumstead Rd',\n",
      " 'AddressLine3': 'London',\n",
      " 'AddressLine4': '',\n",
      " 'BusinessName': 'Penang Flavours',\n",
      " 'BusinessType': 'Restaurant/Cafe/Canteen',\n",
      " 'BusinessTypeID': 1,\n",
      " 'Distance': 4623.972328074718,\n",
      " 'LocalAuthorityCode': '511',\n",
      " 'LocalAuthorityEmailAddress': 'health@royalgreenwich.gov.uk',\n",
      " 'LocalAuthorityName': 'Greenwich',\n",
      " 'LocalAuthorityWebSite': 'http://www.royalgreenwich.gov.uk',\n",
      " 'NewRatingPending': True,\n",
      " 'Phone': '',\n",
      " 'PostCode': 'SE18 7DY',\n",
      " 'RightToReply': '',\n",
      " 'SchemeType': 'FHRS',\n",
      " '_id': ObjectId('64afd705550a0835d6649e3f'),\n",
      " 'geocode': {'latitude': '51.49014200', 'longitude': '0.08384000'},\n",
      " 'scores': {'ConfidenceInManagement': '', 'Hygiene': '', 'Structural': ''}}\n"
     ]
    }
   ],
   "source": [
    "# Confirm that the new restaurant was updated\n",
    "pprint(establishments.find_one({\"BusinessName\": \"Penang Flavours\"}))"
   ]
  },
  {
   "cell_type": "markdown",
   "id": "67281254",
   "metadata": {},
   "source": [
    "4. The magazine is not interested in any establishments in Dover, so check how many documents contain the Dover Local Authority. Then, remove any establishments within the Dover Local Authority from the database, and check the number of documents to ensure they were deleted."
   ]
  },
  {
   "cell_type": "code",
   "execution_count": 51,
   "id": "768474a6",
   "metadata": {},
   "outputs": [
    {
     "name": "stdout",
     "output_type": "stream",
     "text": [
      "[{'_id': 'Dover', 'dcount': 994}]\n"
     ]
    }
   ],
   "source": [
    "# Find how many documents have LocalAuthorityName as \"Dover\"\n",
    "# Filter by LocalAlthorityName 'Dover'\n",
    "dpipe = [{'$match':{'LocalAuthorityName': 'Dover'}},\n",
    "         {'$group':{'_id':'$LocalAuthorityName', 'dcount':{'$sum':1}}}]\n",
    "dpipe_result = list(establishments.aggregate(dpipe))\n",
    "pprint(dpipe_result)"
   ]
  },
  {
   "cell_type": "code",
   "execution_count": 52,
   "id": "a11d5f1b",
   "metadata": {},
   "outputs": [
    {
     "data": {
      "text/plain": [
       "<pymongo.results.DeleteResult at 0x22c36699400>"
      ]
     },
     "execution_count": 52,
     "metadata": {},
     "output_type": "execute_result"
    }
   ],
   "source": [
    "# Delete all documents where LocalAuthorityName is \"Dover\"\n",
    "del_dover = {'LocalAuthorityName': 'Dover'}\n",
    "establishments.delete_many(del_dover)"
   ]
  },
  {
   "cell_type": "code",
   "execution_count": 54,
   "id": "2a51aba0",
   "metadata": {},
   "outputs": [
    {
     "name": "stdout",
     "output_type": "stream",
     "text": [
      "[{'_id': 'Swale', 'count': 891},\n",
      " {'_id': 'Folkestone and Hythe', 'count': 996},\n",
      " {'_id': 'Rochford', 'count': 491},\n",
      " {'_id': 'Bromley', 'count': 1298},\n",
      " {'_id': 'North Hertfordshire', 'count': 16},\n",
      " {'_id': 'Newham', 'count': 2013},\n",
      " {'_id': 'Maidstone', 'count': 965},\n",
      " {'_id': 'South Cambridgeshire', 'count': 1},\n",
      " {'_id': 'Thanet', 'count': 1199},\n",
      " {'_id': 'Hastings', 'count': 737},\n",
      " {'_id': 'Sevenoaks', 'count': 696},\n",
      " {'_id': 'East Renfrewshire', 'count': 108},\n",
      " {'_id': 'Barking and Dagenham', 'count': 1075},\n",
      " {'_id': 'Orkney Islands', 'count': 1},\n",
      " {'_id': 'Pendle', 'count': 1},\n",
      " {'_id': 'Babergh', 'count': 192},\n",
      " {'_id': 'Harlow', 'count': 505},\n",
      " {'_id': 'Lambeth', 'count': 1},\n",
      " {'_id': 'Lewisham', 'count': 310},\n",
      " {'_id': 'Medway', 'count': 1390},\n",
      " {'_id': 'Uttlesford', 'count': 579},\n",
      " {'_id': 'Sunderland', 'count': 1},\n",
      " {'_id': 'York', 'count': 1},\n",
      " {'_id': 'Tower Hamlets', 'count': 14},\n",
      " {'_id': 'Kensington and Chelsea', 'count': 2},\n",
      " {'_id': 'Salford', 'count': 1},\n",
      " {'_id': 'Basildon', 'count': 984},\n",
      " {'_id': 'Tandridge', 'count': 92},\n",
      " {'_id': 'Epping Forest', 'count': 906},\n",
      " {'_id': 'Dartford', 'count': 709},\n",
      " {'_id': 'Canterbury City', 'count': 1215},\n",
      " {'_id': 'Waltham Forest', 'count': 404},\n",
      " {'_id': 'Aberdeenshire', 'count': 27},\n",
      " {'_id': 'Tunbridge Wells', 'count': 748},\n",
      " {'_id': 'Castle Point', 'count': 426},\n",
      " {'_id': 'Bexley', 'count': 1359},\n",
      " {'_id': 'City of London Corporation', 'count': 37},\n",
      " {'_id': 'Chelmsford', 'count': 1074},\n",
      " {'_id': 'Ashford', 'count': 895},\n",
      " {'_id': 'Reading', 'count': 1},\n",
      " {'_id': 'Rushmoor', 'count': 1},\n",
      " {'_id': 'Brentwood', 'count': 530},\n",
      " {'_id': 'East Hertfordshire', 'count': 482},\n",
      " {'_id': 'Broxbourne', 'count': 16},\n",
      " {'_id': 'Arun', 'count': 1},\n",
      " {'_id': 'Mid Sussex', 'count': 7},\n",
      " {'_id': 'Gravesham', 'count': 546},\n",
      " {'_id': 'Havering', 'count': 1548},\n",
      " {'_id': 'Rother', 'count': 811},\n",
      " {'_id': 'Tendring', 'count': 985},\n",
      " {'_id': 'West Suffolk', 'count': 1},\n",
      " {'_id': 'Dorset', 'count': 1},\n",
      " {'_id': 'North Norfolk', 'count': 1},\n",
      " {'_id': 'Colchester', 'count': 1423},\n",
      " {'_id': 'Ipswich', 'count': 28},\n",
      " {'_id': 'Wealden', 'count': 1033},\n",
      " {'_id': 'Greenwich', 'count': 1418},\n",
      " {'_id': 'Maldon', 'count': 466},\n",
      " {'_id': 'Southend-On-Sea', 'count': 1509},\n",
      " {'_id': 'Knowsley', 'count': 1},\n",
      " {'_id': 'Braintree', 'count': 836},\n",
      " {'_id': 'Spelthorne', 'count': 1},\n",
      " {'_id': 'Thurrock', 'count': 723},\n",
      " {'_id': 'Eastbourne', 'count': 907},\n",
      " {'_id': 'Redbridge', 'count': 1564},\n",
      " {'_id': 'Tonbridge and Malling', 'count': 744},\n",
      " {'_id': 'East Suffolk', 'count': 272},\n",
      " {'_id': 'Lewes', 'count': 563},\n",
      " {'_id': 'Stratford-on-Avon', 'count': 1},\n",
      " {'_id': 'Hackney', 'count': 5},\n",
      " {'_id': 'Slough', 'count': 1}]\n"
     ]
    }
   ],
   "source": [
    "# Check if any remaining documents include Dover\n",
    "# METHOD 1) lIST EVERY LocalAuthorityName IN COLLECTION to confirm Dover is not listed\n",
    "lam_pipe = [{'$group':{'_id':'$LocalAuthorityName', 'count':{'$sum':1}}}]\n",
    "lam_result = list(establishments.aggregate(lam_pipe))\n",
    "pprint(lam_result)"
   ]
  },
  {
   "cell_type": "code",
   "execution_count": 55,
   "id": "38020c4a-9813-40f5-a1a8-624ad935498c",
   "metadata": {
    "tags": []
   },
   "outputs": [
    {
     "name": "stdout",
     "output_type": "stream",
     "text": [
      "[]\n"
     ]
    }
   ],
   "source": [
    "# Check if any remaining documents include Dover\n",
    "# METHOD 2) Return all records where LocalAuthorityName matches Dover\n",
    "dpipe2 = [{'$match':{'LocalAuthorityName': 'Dover'}},\n",
    "         {'$group':{'_id':'$LocalAuthorityName', 'dcount2':{'$sum':1}}}]\n",
    "dpipe2_result = list(establishments.aggregate(dpipe2))\n",
    "pprint(dpipe2_result)"
   ]
  },
  {
   "cell_type": "code",
   "execution_count": 56,
   "id": "8c356f7b",
   "metadata": {},
   "outputs": [
    {
     "name": "stdout",
     "output_type": "stream",
     "text": [
      "{'AddressLine1': 'East Cliff Pavilion',\n",
      " 'AddressLine2': 'Wear Bay Road',\n",
      " 'AddressLine3': 'Folkestone',\n",
      " 'AddressLine4': 'Kent',\n",
      " 'BusinessName': 'The Pavilion',\n",
      " 'BusinessType': 'Restaurant/Cafe/Canteen',\n",
      " 'BusinessTypeID': 1,\n",
      " 'ChangesByServerID': 0,\n",
      " 'Distance': 4591.765489457773,\n",
      " 'FHRSID': 1043695,\n",
      " 'LocalAuthorityBusinessID': 'PI/000073616',\n",
      " 'LocalAuthorityCode': '188',\n",
      " 'LocalAuthorityEmailAddress': 'foodteam@folkestone-hythe.gov.uk',\n",
      " 'LocalAuthorityName': 'Folkestone and Hythe',\n",
      " 'LocalAuthorityWebSite': 'http://www.folkestone-hythe.gov.uk',\n",
      " 'NewRatingPending': False,\n",
      " 'Phone': '',\n",
      " 'PostCode': 'CT19 6BL',\n",
      " 'RatingDate': '2018-04-04T00:00:00',\n",
      " 'RatingKey': 'fhrs_5_en-gb',\n",
      " 'RatingValue': '5',\n",
      " 'RightToReply': '',\n",
      " 'SchemeType': 'FHRS',\n",
      " '_id': ObjectId('64afd6cebdd76bfec882ed99'),\n",
      " 'geocode': {'latitude': '51.083812', 'longitude': '1.195625'},\n",
      " 'links': [{'href': 'https://api.ratings.food.gov.uk/establishments/1043695',\n",
      "            'rel': 'self'}],\n",
      " 'meta': {'dataSource': None,\n",
      "          'extractDate': '0001-01-01T00:00:00',\n",
      "          'itemCount': 0,\n",
      "          'pageNumber': 0,\n",
      "          'pageSize': 0,\n",
      "          'returncode': None,\n",
      "          'totalCount': 0,\n",
      "          'totalPages': 0},\n",
      " 'scores': {'ConfidenceInManagement': 5, 'Hygiene': 5, 'Structural': 5}}\n"
     ]
    }
   ],
   "source": [
    "# Check that other documents remain with 'find_one'\n",
    "pprint(db.establishments.find_one())"
   ]
  },
  {
   "cell_type": "markdown",
   "id": "e9f1662d",
   "metadata": {},
   "source": [
    "5. Some of the number values are stored as strings, when they should be stored as numbers."
   ]
  },
  {
   "cell_type": "markdown",
   "id": "c46df2df",
   "metadata": {},
   "source": [
    "Use `update_many` to convert `latitude` and `longitude` to decimal numbers."
   ]
  },
  {
   "cell_type": "code",
   "execution_count": 57,
   "id": "fd4112ce",
   "metadata": {},
   "outputs": [
    {
     "data": {
      "text/plain": [
       "<pymongo.results.UpdateResult at 0x22c365be480>"
      ]
     },
     "execution_count": 57,
     "metadata": {},
     "output_type": "execute_result"
    }
   ],
   "source": [
    "# Change the data type from String to Decimal for longitude and latitude\n",
    "establishments.update_many({}, [{'$set':{'geocode.latitude':{'$convert':{'input':'$geocode.latitude',\n",
    "                                                                         'to':'decimal'}},\n",
    "                                         'geocode.longitude':{'$convert':{'input':'$geocode.longitude',\n",
    "                                                                          'to': 'decimal'}}}}])"
   ]
  },
  {
   "cell_type": "markdown",
   "id": "142e319c",
   "metadata": {},
   "source": [
    "Use `update_many` to convert `RatingValue` to integer numbers."
   ]
  },
  {
   "cell_type": "code",
   "execution_count": 58,
   "id": "04430a5b",
   "metadata": {},
   "outputs": [
    {
     "data": {
      "text/plain": [
       "<pymongo.results.UpdateResult at 0x22c30790800>"
      ]
     },
     "execution_count": 58,
     "metadata": {},
     "output_type": "execute_result"
    }
   ],
   "source": [
    "# Set non 1-5 Rating Values to Null\n",
    "non_ratings = [\"AwaitingInspection\", \"Awaiting Inspection\", \"AwaitingPublication\", \"Pass\", \"Exempt\"]\n",
    "establishments.update_many({\"RatingValue\": {\"$in\": non_ratings}}, [ {'$set':{ \"RatingValue\" : None}} ])"
   ]
  },
  {
   "cell_type": "code",
   "execution_count": 59,
   "id": "92524ccc",
   "metadata": {},
   "outputs": [
    {
     "data": {
      "text/plain": [
       "<pymongo.results.UpdateResult at 0x22c30791b80>"
      ]
     },
     "execution_count": 59,
     "metadata": {},
     "output_type": "execute_result"
    }
   ],
   "source": [
    "# Change the data type from String to Integer for RatingValue\n",
    "establishments.update_many({}, [{'$set':{'RatingValue':{'$toInt':'$RatingValue'}}}])"
   ]
  },
  {
   "cell_type": "code",
   "execution_count": 60,
   "id": "0761ac71-3c50-40cd-a794-58da69cc34db",
   "metadata": {
    "tags": []
   },
   "outputs": [
    {
     "name": "stdout",
     "output_type": "stream",
     "text": [
      "RatingValue data type: <class 'int'>\n",
      "Latitude data type: <class 'bson.decimal128.Decimal128'>\n",
      "Longitude data type: <class 'bson.decimal128.Decimal128'>\n"
     ]
    }
   ],
   "source": [
    "# Check that the coordinates and rating value are now numbers\n",
    "# Assign a variable to a single document\n",
    "sample = establishments.find_one()\n",
    "\n",
    "# Retrieve the geocode dictionary\n",
    "geocode = sample.get('geocode', {})\n",
    "\n",
    "# Check the data types of RatingValue, latitude, and longitude\n",
    "print(f\"RatingValue data type: {type(sample['RatingValue'])}\")\n",
    "print(f\"Latitude data type: {type(geocode.get('latitude'))}\")\n",
    "print(f\"Longitude data type: {type(geocode.get('longitude'))}\")"
   ]
  },
  {
   "cell_type": "code",
   "execution_count": null,
   "id": "7c43c33e-d1ac-417f-8ec1-5fbb408eeec5",
   "metadata": {},
   "outputs": [],
   "source": []
  }
 ],
 "metadata": {
  "kernelspec": {
   "display_name": "Python 3 (ipykernel)",
   "language": "python",
   "name": "python3"
  },
  "language_info": {
   "codemirror_mode": {
    "name": "ipython",
    "version": 3
   },
   "file_extension": ".py",
   "mimetype": "text/x-python",
   "name": "python",
   "nbconvert_exporter": "python",
   "pygments_lexer": "ipython3",
   "version": "3.10.11"
  }
 },
 "nbformat": 4,
 "nbformat_minor": 5
}
